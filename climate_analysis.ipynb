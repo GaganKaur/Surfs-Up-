{
 "cells": [
  {
   "cell_type": "code",
   "execution_count": 1,
   "metadata": {
    "collapsed": true
   },
   "outputs": [],
   "source": [
    "#Dependencies\n",
    "import csv\n",
    "import numpy as np\n",
    "import pandas as pd\n",
    "import matplotlib.pyplot as plt\n",
    "import seaborn as sns\n",
    "import datetime as dt\n",
    "\n",
    "from sqlalchemy import *\n",
    "from sqlalchemy.ext.declarative import declarative_base\n",
    "from sqlalchemy.orm import Session\n",
    "from sqlalchemy import create_engine\n",
    "from sqlalchemy.ext.automap import automap_base\n",
    "from sqlalchemy import func, text"
   ]
  },
  {
   "cell_type": "code",
   "execution_count": 2,
   "metadata": {
    "collapsed": true
   },
   "outputs": [],
   "source": [
    "Base = automap_base()\n",
    "\n",
    "# engine, suppose it has two tables 'user' and 'address' set up\n",
    "engine = create_engine(\"sqlite:///hawaii.sqlite\")\n",
    "\n",
    "# reflect the tables\n",
    "Base.prepare(engine, reflect=True)\n",
    "\n",
    "# mapped classes are now created with names by default\n",
    "# matching that of the table name.\n"
   ]
  },
  {
   "cell_type": "code",
   "execution_count": 3,
   "metadata": {},
   "outputs": [
    {
     "data": {
      "text/plain": [
       "['measurements', 'stations']"
      ]
     },
     "execution_count": 3,
     "metadata": {},
     "output_type": "execute_result"
    }
   ],
   "source": [
    "Base.classes.keys()"
   ]
  },
  {
   "cell_type": "code",
   "execution_count": 4,
   "metadata": {
    "collapsed": true
   },
   "outputs": [],
   "source": [
    "measurements = Base.classes.measurements"
   ]
  },
  {
   "cell_type": "code",
   "execution_count": 5,
   "metadata": {
    "collapsed": true
   },
   "outputs": [],
   "source": [
    "stations = Base.classes.stations"
   ]
  },
  {
   "cell_type": "code",
   "execution_count": 6,
   "metadata": {},
   "outputs": [
    {
     "data": {
      "text/plain": [
       "['measurements', 'stations']"
      ]
     },
     "execution_count": 6,
     "metadata": {},
     "output_type": "execute_result"
    }
   ],
   "source": [
    "Base.classes.keys()"
   ]
  },
  {
   "cell_type": "code",
   "execution_count": 7,
   "metadata": {
    "collapsed": true
   },
   "outputs": [],
   "source": [
    "Measurements = Base.classes.measurements\n",
    "Stations = Base.classes.stations"
   ]
  },
  {
   "cell_type": "code",
   "execution_count": 8,
   "metadata": {
    "collapsed": true
   },
   "outputs": [],
   "source": [
    "session = Session(engine)"
   ]
  },
  {
   "cell_type": "code",
   "execution_count": 9,
   "metadata": {
    "collapsed": true
   },
   "outputs": [],
   "source": [
    "# from sqlalchemy import func\n",
    "# sel = [measurements.date, measurements.prcp] \n",
    "# results = session.query(*sel).\\\n",
    "#     filter(measurements.date == \"NA\").\\\n",
    "#     filter(MammalMasses.status == \"extant\").\\\n",
    "#     filter(MammalMasses.comb_mass_g != None).\\\n",
    "#     order_by(MammalMasses.comb_mass_g.desc()).all()\n",
    "# print(results[:10])"
   ]
  },
  {
   "cell_type": "code",
   "execution_count": 10,
   "metadata": {},
   "outputs": [
    {
     "data": {
      "text/html": [
       "<div>\n",
       "<style>\n",
       "    .dataframe thead tr:only-child th {\n",
       "        text-align: right;\n",
       "    }\n",
       "\n",
       "    .dataframe thead th {\n",
       "        text-align: left;\n",
       "    }\n",
       "\n",
       "    .dataframe tbody tr th {\n",
       "        vertical-align: top;\n",
       "    }\n",
       "</style>\n",
       "<table border=\"1\" class=\"dataframe\">\n",
       "  <thead>\n",
       "    <tr style=\"text-align: right;\">\n",
       "      <th></th>\n",
       "      <th>station</th>\n",
       "      <th>date</th>\n",
       "      <th>prcp</th>\n",
       "      <th>tobs</th>\n",
       "    </tr>\n",
       "  </thead>\n",
       "  <tbody>\n",
       "    <tr>\n",
       "      <th>0</th>\n",
       "      <td>USC00519397</td>\n",
       "      <td>2010-01-01</td>\n",
       "      <td>0.08</td>\n",
       "      <td>65</td>\n",
       "    </tr>\n",
       "    <tr>\n",
       "      <th>1</th>\n",
       "      <td>USC00519397</td>\n",
       "      <td>2010-01-02</td>\n",
       "      <td>0.00</td>\n",
       "      <td>63</td>\n",
       "    </tr>\n",
       "    <tr>\n",
       "      <th>2</th>\n",
       "      <td>USC00519397</td>\n",
       "      <td>2010-01-03</td>\n",
       "      <td>0.00</td>\n",
       "      <td>74</td>\n",
       "    </tr>\n",
       "    <tr>\n",
       "      <th>3</th>\n",
       "      <td>USC00519397</td>\n",
       "      <td>2010-01-04</td>\n",
       "      <td>0.00</td>\n",
       "      <td>76</td>\n",
       "    </tr>\n",
       "    <tr>\n",
       "      <th>4</th>\n",
       "      <td>USC00519397</td>\n",
       "      <td>2010-01-06</td>\n",
       "      <td>0.01</td>\n",
       "      <td>73</td>\n",
       "    </tr>\n",
       "  </tbody>\n",
       "</table>\n",
       "</div>"
      ],
      "text/plain": [
       "       station        date  prcp  tobs\n",
       "0  USC00519397  2010-01-01  0.08    65\n",
       "1  USC00519397  2010-01-02  0.00    63\n",
       "2  USC00519397  2010-01-03  0.00    74\n",
       "3  USC00519397  2010-01-04  0.00    76\n",
       "4  USC00519397  2010-01-06  0.01    73"
      ]
     },
     "execution_count": 10,
     "metadata": {},
     "output_type": "execute_result"
    }
   ],
   "source": [
    "df = pd.DataFrame(session.query(Measurements.station, Measurements.date, Measurements.prcp, Measurements.tobs).all())\n",
    "df.head()"
   ]
  },
  {
   "cell_type": "code",
   "execution_count": 11,
   "metadata": {},
   "outputs": [
    {
     "data": {
      "text/html": [
       "<div>\n",
       "<style>\n",
       "    .dataframe thead tr:only-child th {\n",
       "        text-align: right;\n",
       "    }\n",
       "\n",
       "    .dataframe thead th {\n",
       "        text-align: left;\n",
       "    }\n",
       "\n",
       "    .dataframe tbody tr th {\n",
       "        vertical-align: top;\n",
       "    }\n",
       "</style>\n",
       "<table border=\"1\" class=\"dataframe\">\n",
       "  <thead>\n",
       "    <tr style=\"text-align: right;\">\n",
       "      <th></th>\n",
       "      <th>prcp</th>\n",
       "    </tr>\n",
       "    <tr>\n",
       "      <th>date</th>\n",
       "      <th></th>\n",
       "    </tr>\n",
       "  </thead>\n",
       "  <tbody>\n",
       "    <tr>\n",
       "      <th>2012-04-01</th>\n",
       "      <td>0.05</td>\n",
       "    </tr>\n",
       "    <tr>\n",
       "      <th>2012-04-02</th>\n",
       "      <td>0.02</td>\n",
       "    </tr>\n",
       "    <tr>\n",
       "      <th>2012-04-03</th>\n",
       "      <td>0.01</td>\n",
       "    </tr>\n",
       "    <tr>\n",
       "      <th>2012-04-04</th>\n",
       "      <td>0.13</td>\n",
       "    </tr>\n",
       "    <tr>\n",
       "      <th>2012-04-05</th>\n",
       "      <td>1.52</td>\n",
       "    </tr>\n",
       "  </tbody>\n",
       "</table>\n",
       "</div>"
      ],
      "text/plain": [
       "            prcp\n",
       "date            \n",
       "2012-04-01  0.05\n",
       "2012-04-02  0.02\n",
       "2012-04-03  0.01\n",
       "2012-04-04  0.13\n",
       "2012-04-05  1.52"
      ]
     },
     "execution_count": 11,
     "metadata": {},
     "output_type": "execute_result"
    }
   ],
   "source": [
    "# prcp_df = pd.DataFrame(x)\n",
    "# prcp_df.set_index('date', inplace=True)\n",
    "\n",
    "prcp = df[(df.date >= '2012-04-01') & (df.date <= '2013-03-31')].groupby(['date']).sum()\n",
    "#prcp.drop('tobs',inplace=True, axis=1)\n",
    "prcp = prcp[['prcp']]\n",
    "prcp.sort_index()\n",
    "prcp.head()\n",
    "\n"
   ]
  },
  {
   "cell_type": "code",
   "execution_count": 12,
   "metadata": {
    "collapsed": true
   },
   "outputs": [],
   "source": [
    "x_axis = np.arange(len(prcp.prcp))\n",
    "x_labels = [value for ind, value in enumerate(prcp.index) if ind % 30 == 0]\n"
   ]
  },
  {
   "cell_type": "code",
   "execution_count": 13,
   "metadata": {},
   "outputs": [
    {
     "data": {
      "text/plain": [
       "['2012-04-01',\n",
       " '2012-05-01',\n",
       " '2012-05-31',\n",
       " '2012-06-30',\n",
       " '2012-07-30',\n",
       " '2012-08-29',\n",
       " '2012-09-28',\n",
       " '2012-10-28',\n",
       " '2012-11-27',\n",
       " '2012-12-27',\n",
       " '2013-01-26',\n",
       " '2013-02-25',\n",
       " '2013-03-27']"
      ]
     },
     "execution_count": 13,
     "metadata": {},
     "output_type": "execute_result"
    }
   ],
   "source": [
    "x_labels"
   ]
  },
  {
   "cell_type": "code",
   "execution_count": 14,
   "metadata": {
    "scrolled": true
   },
   "outputs": [
    {
     "data": {
      "image/png": "[encoded data removed]",
      "text/plain": [
       "<matplotlib.figure.Figure at 0x10e2511d0>"
      ]
     },
     "metadata": {},
     "output_type": "display_data"
    }
   ],
   "source": [
    "prcp.plot.bar()\n",
    "ind = [value for ind, value in enumerate(x_axis) if ind % 30 == 0]\n",
    "plt.xticks(ind, x_labels, rotation=45)\n",
    "plt.title(\"Precipitation During \" + prcp.index[0] + \" - \" + prcp.index[-1])\n",
    "plt.xlabel(\"Date\")\n",
    "plt.ylabel(\"Precipitation\")\n",
    "sns.set()\n",
    "plt.savefig('precipitation.png')\n",
    "plt.show()\n",
    "    "
   ]
  },
  {
   "cell_type": "code",
   "execution_count": 15,
   "metadata": {
    "collapsed": true
   },
   "outputs": [],
   "source": [
    "# Station Analysis"
   ]
  },
  {
   "cell_type": "code",
   "execution_count": 16,
   "metadata": {},
   "outputs": [
    {
     "data": {
      "text/plain": [
       "9"
      ]
     },
     "execution_count": 16,
     "metadata": {},
     "output_type": "execute_result"
    }
   ],
   "source": [
    "# Design a query to calculate the total number of stations.\n",
    "\n",
    "stations = df.station.unique()\n",
    "no_of_stations = len(stations)\n",
    "no_of_stations"
   ]
  },
  {
   "cell_type": "code",
   "execution_count": 17,
   "metadata": {},
   "outputs": [
    {
     "data": {
      "text/plain": [
       "'USC00519281'"
      ]
     },
     "execution_count": 17,
     "metadata": {},
     "output_type": "execute_result"
    }
   ],
   "source": [
    "# Design a query to find the most active stations.\n",
    "    # List the stations and observation counts in descending order\n",
    "    # Which station has the highest number of observations?\n",
    "    \n",
    "active_station = df.groupby('station' , as_index = False)['prcp'].count()\n",
    "active_station.set_index('prcp', inplace = True)\n",
    "active_station = active_station.sort_index()\n",
    "\n",
    "most_active_station = active_station.iloc[-1]['station']\n",
    "\n",
    "most_active_station\n",
    "\n",
    "\n"
   ]
  },
  {
   "cell_type": "code",
   "execution_count": 18,
   "metadata": {},
   "outputs": [
    {
     "data": {
      "text/html": [
       "<div>\n",
       "<style>\n",
       "    .dataframe thead tr:only-child th {\n",
       "        text-align: right;\n",
       "    }\n",
       "\n",
       "    .dataframe thead th {\n",
       "        text-align: left;\n",
       "    }\n",
       "\n",
       "    .dataframe tbody tr th {\n",
       "        vertical-align: top;\n",
       "    }\n",
       "</style>\n",
       "<table border=\"1\" class=\"dataframe\">\n",
       "  <thead>\n",
       "    <tr style=\"text-align: right;\">\n",
       "      <th></th>\n",
       "      <th>prcp</th>\n",
       "      <th>tobs</th>\n",
       "    </tr>\n",
       "    <tr>\n",
       "      <th>date</th>\n",
       "      <th></th>\n",
       "      <th></th>\n",
       "    </tr>\n",
       "  </thead>\n",
       "  <tbody>\n",
       "    <tr>\n",
       "      <th>2012-04-01</th>\n",
       "      <td>0.00</td>\n",
       "      <td>75</td>\n",
       "    </tr>\n",
       "    <tr>\n",
       "      <th>2012-04-02</th>\n",
       "      <td>0.00</td>\n",
       "      <td>67</td>\n",
       "    </tr>\n",
       "    <tr>\n",
       "      <th>2012-04-03</th>\n",
       "      <td>0.00</td>\n",
       "      <td>66</td>\n",
       "    </tr>\n",
       "    <tr>\n",
       "      <th>2012-04-04</th>\n",
       "      <td>0.06</td>\n",
       "      <td>69</td>\n",
       "    </tr>\n",
       "    <tr>\n",
       "      <th>2012-04-05</th>\n",
       "      <td>0.11</td>\n",
       "      <td>71</td>\n",
       "    </tr>\n",
       "  </tbody>\n",
       "</table>\n",
       "</div>"
      ],
      "text/plain": [
       "            prcp  tobs\n",
       "date                  \n",
       "2012-04-01  0.00    75\n",
       "2012-04-02  0.00    67\n",
       "2012-04-03  0.00    66\n",
       "2012-04-04  0.06    69\n",
       "2012-04-05  0.11    71"
      ]
     },
     "execution_count": 18,
     "metadata": {},
     "output_type": "execute_result"
    }
   ],
   "source": [
    "station = df[(df.station == most_active_station) & (df.date >= '2012-04-01') & (df.date <= '2013-03-31') ].groupby(['date']).sum()\n",
    "station.sort_index()\n",
    "station.head()"
   ]
  },
  {
   "cell_type": "code",
   "execution_count": 19,
   "metadata": {},
   "outputs": [
    {
     "data": {
      "image/png": "[encoded data removed]",
      "text/plain": [
       "<matplotlib.figure.Figure at 0x119467fd0>"
      ]
     },
     "metadata": {},
     "output_type": "display_data"
    }
   ],
   "source": [
    "plt.hist(station.tobs, bins=12, alpha=0.5, edgecolor='black', linewidth='0.5')\n",
    "plt.title(\"Temperature Frequency Between \" + station.index[0] + \" - \" + station.index[-1] + \" For Station: \" + most_active_station)\n",
    "plt.xlabel(\"Temperature\")\n",
    "plt.ylabel(\"Frequency\")\n",
    "sns.set()\n",
    "plt.savefig('temperature.png')\n",
    "plt.show()"
   ]
  },
  {
   "cell_type": "code",
   "execution_count": 20,
   "metadata": {
    "collapsed": true
   },
   "outputs": [],
   "source": [
    "# Temperature Analysis\n"
   ]
  },
  {
   "cell_type": "code",
   "execution_count": 21,
   "metadata": {
    "collapsed": true
   },
   "outputs": [],
   "source": [
    "# Write a function called calc_temps that will accept a start date and end date in the format %Y-%m-%d \n",
    "# and return the minimum, average, and maximum temperatures for that range of dates.\n",
    "\n",
    "def calc_temps(start_date, end_date):\n",
    "    temp_df = df[(df.date >= start_date) & (df.date <= end_date)]\n",
    "    min_temp = temp_df.tobs.min()\n",
    "    max_temp = temp_df.tobs.max()\n",
    "    mean_temp = temp_df.tobs.mean()\n",
    "    return (min_temp, max_temp, mean_temp)\n"
   ]
  },
  {
   "cell_type": "code",
   "execution_count": 22,
   "metadata": {
    "collapsed": true
   },
   "outputs": [],
   "source": [
    "# Use the calc_temps function to calculate the min, avg, and max temperatures for your trip using the matching \n",
    "# dates from the previous year (i.e. use \"2017-01-01\" if your trip start date was \"2018-01-01\")\n",
    "\n",
    "min_temp, max_temp, mean_temp = calc_temps(\"2017-03-10\", \"2017-03-20\")\n"
   ]
  },
  {
   "cell_type": "code",
   "execution_count": 23,
   "metadata": {},
   "outputs": [
    {
     "data": {
      "image/png": "[encoded data removed]",
      "text/plain": [
       "<matplotlib.figure.Figure at 0x11d396da0>"
      ]
     },
     "metadata": {},
     "output_type": "display_data"
    }
   ],
   "source": [
    "# Plot the min, avg, and max temperature from your previous query as a bar chart.\n",
    "# Use the average temperature as the bar height.\n",
    "# Use the peak-to-peak (tmax-tmin) value as the y error bar (yerr).\n",
    "\n",
    "\n",
    "ht = [mean_temp]\n",
    "yerr = [max_temp - min_temp]\n",
    "\n",
    "\n",
    "plt.bar(0, ht, color='coral', alpha=.35, yerr=yerr, align = 'center')\n",
    "plt.ylabel(\"Temp (F)\")\n",
    "plt.title(\"Trip Average Temperature\")\n",
    "\n",
    "\n",
    "\n",
    "sns.set()\n",
    "plt.show()\n",
    "#plt.savefig('average_trip_temperature.png')\n",
    "\n",
    "\n"
   ]
  },
  {
   "cell_type": "code",
   "execution_count": 24,
   "metadata": {
    "collapsed": true
   },
   "outputs": [],
   "source": [
    "# Step 4 - Climate App\n",
    "# Now that you have completed your initial analysis, design a Flask api based on the queries that you have just developed.\n",
    "# Use FLASK to create your routes.\n"
   ]
  },
  {
   "cell_type": "code",
   "execution_count": 25,
   "metadata": {
    "collapsed": true
   },
   "outputs": [],
   "source": [
    "# /api/v1.0/precipitation\n",
    "# Query for the dates and precipitation observations from the last year.\n",
    "# Convert the query results to a Dictionary using date as the key and tobs as the value.\n",
    "# Return the json representation of your dictionary.\n",
    "\n",
    "from flask import Flask\n",
    "\n",
    "# Flask Setup\n",
    "\n",
    "app = Flask(__name__)\n",
    "\n",
    "@app.route(\"/api/v1.0/precipitation\")\n",
    "def precipitation():\n",
    "    today_date = dt.date.today()\n",
    "    last_year_date = today_date - dt.timedelta(days=365)\n",
    "    tobs_dict = {}\n",
    "    results = df[(df.date >= str(last_year_date)) & (df.date <= str(today_date))].groupby(['date']).sum()\n",
    "    tobs_dict = results.to_dict(orient='index')\n",
    "    return jsonify(tobs_dict)"
   ]
  },
  {
   "cell_type": "code",
   "execution_count": 26,
   "metadata": {
    "collapsed": true
   },
   "outputs": [],
   "source": [
    "# /api/v1.0/stations\n",
    "# Return a json list of stations from the dataset.\n",
    "@app.route(\"/api/v1.0/stations\")\n",
    "def stations():\n",
    "    stations = list(df.station.unique())\n",
    "    return jsonify(stations)"
   ]
  },
  {
   "cell_type": "code",
   "execution_count": 27,
   "metadata": {
    "collapsed": true
   },
   "outputs": [],
   "source": [
    "# /api/v1.0/tobs\n",
    "# Return a json list of Temperature Observations (tobs) for the previous year\n",
    "@app.route(\"/api/v1.0/tobs\")\n",
    "def tobs():\n",
    "    today = dt.date.today()\n",
    "    prev_year = today - dt.timedelta(days=365)\n",
    "    tobs_df = df[(df.date >= str(last_year)) & (df.date <= str(today_date))]['tobs']\n",
    "    tobs_list = []\n",
    "    for tob in tobs_df:\n",
    "        tobs_list.append(tob)\n",
    "        \n",
    "    return jsonify(tobs_list)\n",
    "    "
   ]
  },
  {
   "cell_type": "code",
   "execution_count": 28,
   "metadata": {
    "collapsed": true
   },
   "outputs": [],
   "source": [
    "# /api/v1.0/<start> and /api/v1.0/<start>/<end>\n",
    "# Return a json list of the minimum temperature, the average temperature, and the max temperature for a given start \n",
    "#or start-end * range.\n",
    "# When given the start only, calculate TMIN, TAVG, and TMAX for all dates greater than and equal to the start date.\n",
    "\n",
    "# http://127.0.0.1:5000/api/v1.0/2011-06-30\n",
    "\n",
    "@app.route(\"/api/v1.0/<start>\")\n",
    "def temp_start(start):\n",
    "    temps_df = df[(df.date <= start)]['tobs']\n",
    "    min_temp = temps_df.min()\n",
    "    max_temp = temps_df.max()\n",
    "    avg_temp = temps_df.mean()\n",
    "    \n",
    "    return jsonify({\"min_temp\": int(min_temp), \"max_temp\": int(max_temp), \"avg_temp\": int(mean_temp)})"
   ]
  },
  {
   "cell_type": "code",
   "execution_count": 29,
   "metadata": {
    "collapsed": true
   },
   "outputs": [],
   "source": [
    "#http://127.0.0.1:5000/api/v1.0/2011-06-30/2011-12-31\n",
    "# When given the start and the end date, calculate the TMIN, TAVG, and TMAX for dates between the start and end \n",
    "#date inclusive.\n",
    "\n",
    "@app.route(\"/api/v1.0/<start>/<end>\")\n",
    "def temp_range_metrics(start, end):\n",
    "    temps_df = df[(df.date >= start) & (df.date <= end)]['tobs']\n",
    "    min_temp = temps_df.min()\n",
    "    max_temp = temps_df.max()\n",
    "    avg_temp = temps_df.mean()\n",
    "    \n",
    "    return jsonify({\"min_temp\": int(min_temp), \"max_temp\": int(max_temp), \"avg_temp\": int(mean_temp)})\n",
    "    \n",
    "    "
   ]
  },
  {
   "cell_type": "code",
   "execution_count": null,
   "metadata": {},
   "outputs": [],
   "source": [
    "if __name__ == '__main__':\n",
    "    app.run(debug=False)\n",
    "    "
   ]
  }
 ],
 "metadata": {
  "kernelspec": {
   "display_name": "Python 3",
   "language": "python",
   "name": "python3"
  },
  "language_info": {
   "codemirror_mode": {
    "name": "ipython",
    "version": 3
   },
   "file_extension": ".py",
   "mimetype": "text/x-python",
   "name": "python",
   "nbconvert_exporter": "python",
   "pygments_lexer": "ipython3",
   "version": "3.6.2"
  }
 },
 "nbformat": 4,
 "nbformat_minor": 2
}
