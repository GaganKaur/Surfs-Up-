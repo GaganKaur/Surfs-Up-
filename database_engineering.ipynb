{
 "cells": [
  {
   "cell_type": "code",
   "execution_count": 397,
   "metadata": {
    "collapsed": true
   },
   "outputs": [],
   "source": [
    "import csv\n",
    "import numpy as np\n",
    "import pandas as pd\n",
    "import matplotlib.pyplot as plt\n",
    "import seaborn as sns\n",
    "\n",
    "from sqlalchemy import *\n",
    "from sqlalchemy.ext.declarative import declarative_base\n",
    "from sqlalchemy.orm import Session\n",
    "from sqlalchemy import create_engine"
   ]
  },
  {
   "cell_type": "code",
   "execution_count": 398,
   "metadata": {
    "collapsed": true
   },
   "outputs": [],
   "source": [
    "# Importing the csv\n",
    "\n",
    "file1 = \"clean_hawaii_measurements.csv\"\n",
    "file2 = \"hawaii_stations.csv\"\n",
    "\n",
    "df1 = pd.read_csv(file1, dtype=object)\n",
    "df2 = pd.read_csv(file2, dtype=object)"
   ]
  },
  {
   "cell_type": "code",
   "execution_count": 399,
   "metadata": {
    "collapsed": true
   },
   "outputs": [],
   "source": [
    "measurements = \"clean_hawaii_measurements.csv\"\n",
    "stations = \"hawaii_stations.csv\"\n",
    "df1.to_csv(measurements, index=False)\n",
    "df2.to_csv(stations, index=False)"
   ]
  },
  {
   "cell_type": "code",
   "execution_count": 400,
   "metadata": {
    "collapsed": true
   },
   "outputs": [],
   "source": [
    "from sqlalchemy import Table, Column, Float, Integer, String, MetaData, ForeignKey, Numeric"
   ]
  },
  {
   "cell_type": "code",
   "execution_count": 401,
   "metadata": {
    "collapsed": true
   },
   "outputs": [],
   "source": [
    "# Database Setup \n",
    "\n",
    "engine = create_engine(\"sqlite:///hawaii.sqlite\", echo = False) \n",
    "conn = engine.connect()"
   ]
  },
  {
   "cell_type": "code",
   "execution_count": 402,
   "metadata": {
    "collapsed": true
   },
   "outputs": [],
   "source": [
    "# Declare Measurement as a class\n",
    "Base = declarative_base()\n",
    "\n",
    "class Measurement(Base):\n",
    "    __tablename__ = 'measurements'\n",
    "  \n",
    "    station = Column(String, primary_key=True)\n",
    "    date = Column(String, primary_key=True)\n",
    "    prcp = Column(Float)\n",
    "    tobs = Column(Integer)\n",
    "    \n",
    "    def __repr__(self):\n",
    "        return f\"id={self.id}\""
   ]
  },
  {
   "cell_type": "code",
   "execution_count": 403,
   "metadata": {},
   "outputs": [
    {
     "data": {
      "text/plain": [
       "Table('measurements', MetaData(bind=None), Column('station', String(), table=<measurements>, primary_key=True, nullable=False), Column('date', String(), table=<measurements>, primary_key=True, nullable=False), Column('prcp', Float(), table=<measurements>), Column('tobs', Integer(), table=<measurements>), schema=None)"
      ]
     },
     "execution_count": 403,
     "metadata": {},
     "output_type": "execute_result"
    }
   ],
   "source": [
    "Measurement.__table__"
   ]
  },
  {
   "cell_type": "code",
   "execution_count": 404,
   "metadata": {
    "collapsed": true
   },
   "outputs": [],
   "source": [
    "# Declare Stations as a class\n",
    "class Station(Base):\n",
    "    __tablename__ = 'stations'\n",
    "    \n",
    "    extend_existing=True\n",
    "    station = Column(String, primary_key=True)\n",
    "    name = Column(String)\n",
    "    latitude = Column(Numeric)\n",
    "    longitude = Column(Numeric)\n",
    "    elevation = Column(Numeric)\n",
    "    \n",
    "    def __repr__(self):\n",
    "        return f\"id={self.id}\"\n",
    "    \n",
    "    \n",
    "    \n"
   ]
  },
  {
   "cell_type": "code",
   "execution_count": 405,
   "metadata": {},
   "outputs": [
    {
     "data": {
      "text/plain": [
       "Table('stations', MetaData(bind=None), Column('station', String(), table=<stations>, primary_key=True, nullable=False), Column('name', String(), table=<stations>), Column('latitude', Numeric(), table=<stations>), Column('longitude', Numeric(), table=<stations>), Column('elevation', Numeric(), table=<stations>), schema=None)"
      ]
     },
     "execution_count": 405,
     "metadata": {},
     "output_type": "execute_result"
    }
   ],
   "source": [
    "Station.__table__"
   ]
  },
  {
   "cell_type": "code",
   "execution_count": 406,
   "metadata": {
    "collapsed": true
   },
   "outputs": [],
   "source": [
    "# create the tables\n",
    "Base.metadata.create_all(engine)"
   ]
  },
  {
   "cell_type": "code",
   "execution_count": 407,
   "metadata": {},
   "outputs": [
    {
     "name": "stdout",
     "output_type": "stream",
     "text": [
      "The #0 table in the database is called 'sqlite_sequence'.\n",
      "The #1 table in the database is called 'measurements'.\n",
      "The #2 table in the database is called 'stations'.\n"
     ]
    }
   ],
   "source": [
    "# First, let's examine the tables in the db\n",
    "tables = engine.execute(\"SELECT * FROM sqlite_master WHERE TYPE='table'\")\n",
    "for index, table in enumerate(tables):\n",
    "    table_name = table[1]\n",
    "    print(f\"The #{index} table in the database is called '{table_name}'.\")"
   ]
  },
  {
   "cell_type": "code",
   "execution_count": 408,
   "metadata": {
    "collapsed": true
   },
   "outputs": [],
   "source": [
    "conn = engine.connect()"
   ]
  },
  {
   "cell_type": "code",
   "execution_count": 409,
   "metadata": {
    "collapsed": true
   },
   "outputs": [],
   "source": [
    "stations = conn.execute(\"SELECT * FROM stations;\").fetchall()"
   ]
  },
  {
   "cell_type": "code",
   "execution_count": 410,
   "metadata": {
    "collapsed": true
   },
   "outputs": [],
   "source": [
    "measuremens = conn.execute(\"SELECT * FROM measurements;\").fetchall()"
   ]
  },
  {
   "cell_type": "code",
   "execution_count": 412,
   "metadata": {
    "collapsed": true
   },
   "outputs": [],
   "source": [
    "# To persist Student objects into, and load from, the database, \n",
    "# we use a Session object\n",
    "# A session is akin to a conversation between Python and SQL\n",
    "from sqlalchemy.orm import Session\n",
    "# Declare a session\n",
    "session = Session(bind=engine)"
   ]
  },
  {
   "cell_type": "code",
   "execution_count": 413,
   "metadata": {
    "collapsed": true
   },
   "outputs": [],
   "source": [
    "# Load the cleaned csv file into a pandas dataframe\n",
    "### BEGIN SOLUTION\n",
    "df1 = pd.read_csv(file1)\n",
    "df2 = pd.read_csv(file2)\n",
    "### END SOLUTION"
   ]
  },
  {
   "cell_type": "code",
   "execution_count": 414,
   "metadata": {},
   "outputs": [
    {
     "data": {
      "text/plain": [
       "{'date': '2010-01-01', 'prcp': 0.08, 'station': 'USC00519397', 'tobs': 65}"
      ]
     },
     "execution_count": 414,
     "metadata": {},
     "output_type": "execute_result"
    }
   ],
   "source": [
    "# Use Orient='records' to create a list of data to write\n",
    "# http://pandas-docs.github.io/pandas-docs-travis/io.html#orient-options\n",
    "### BEGIN SOLUTION\n",
    "data1 = df1.to_dict(orient='records')\n",
    "data2 = df2.to_dict(orient='records')\n",
    "data1[0]\n",
    "### END SOLUTION"
   ]
  },
  {
   "cell_type": "code",
   "execution_count": 415,
   "metadata": {
    "collapsed": true
   },
   "outputs": [],
   "source": [
    "# Use MetaData from SQLAlchemy to reflect the tables\n",
    "### BEGIN SOLUTION\n",
    "metadata1 = MetaData(bind=engine)\n",
    "metadata1.reflect()\n",
    "### END SOLUTION"
   ]
  },
  {
   "cell_type": "code",
   "execution_count": 416,
   "metadata": {
    "collapsed": true
   },
   "outputs": [],
   "source": [
    "metadata2 = MetaData(bind=engine)\n",
    "metadata2.reflect()"
   ]
  },
  {
   "cell_type": "code",
   "execution_count": 417,
   "metadata": {
    "collapsed": true
   },
   "outputs": [],
   "source": [
    "# Save the reference to the `demographics` table as a variable called `table`\n",
    "### BEGIN SOLUTION\n",
    "table1 = sqlalchemy.Table('measurements', metadata1, autoload=True)\n",
    "table2 = sqlalchemy.Table('stations', metadata2, autoload=True)\n",
    "### END SOLUTION"
   ]
  },
  {
   "cell_type": "code",
   "execution_count": 418,
   "metadata": {},
   "outputs": [
    {
     "data": {
      "text/plain": [
       "<sqlalchemy.engine.result.ResultProxy at 0x10e66e198>"
      ]
     },
     "execution_count": 418,
     "metadata": {},
     "output_type": "execute_result"
    }
   ],
   "source": [
    "conn.execute(table1.insert(), data1)"
   ]
  },
  {
   "cell_type": "code",
   "execution_count": 419,
   "metadata": {},
   "outputs": [
    {
     "data": {
      "text/plain": [
       "<sqlalchemy.engine.result.ResultProxy at 0x10e674978>"
      ]
     },
     "execution_count": 419,
     "metadata": {},
     "output_type": "execute_result"
    }
   ],
   "source": [
    "conn.execute(table2.insert(), data2)"
   ]
  },
  {
   "cell_type": "code",
   "execution_count": 420,
   "metadata": {
    "collapsed": true
   },
   "outputs": [],
   "source": [
    "session.commit()"
   ]
  }
 ],
 "metadata": {
  "kernelspec": {
   "display_name": "Python 3",
   "language": "python",
   "name": "python3"
  },
  "language_info": {
   "codemirror_mode": {
    "name": "ipython",
    "version": 3
   },
   "file_extension": ".py",
   "mimetype": "text/x-python",
   "name": "python",
   "nbconvert_exporter": "python",
   "pygments_lexer": "ipython3",
   "version": "3.6.2"
  }
 },
 "nbformat": 4,
 "nbformat_minor": 2
}
